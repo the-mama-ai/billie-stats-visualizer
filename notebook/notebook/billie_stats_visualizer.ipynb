{
 "cells": [
  {
   "cell_type": "markdown",
   "metadata": {
    "id": "BX-nbzVEE68Y"
   },
   "source": [
    "## Billie Stats Visualizer\n",
    "\n",
    "### Quick Walkthrough\n",
    "1. Edit the values of the variables in the code cell under 'User Parameters'.\n",
    "2. Hit 'Run All'.\n",
    "3. Scroll down to results.\n",
    "\n",
    "### Detailed Walkthrough\n",
    "There are a few parameters under 'User Parameters' that need setting.\n",
    "*   ACCOUNT_ID: (optional) the encoded hash (taken from keycloak) of the account ID for which you wish to view usage. Set to None or `\"\"` to view usage over all accounts.\n",
    "*   ENV: the Billie environment that the above account is a part of (`\"prod\"` or `\"dev\"`).\n",
    "*   SUM_TYPE: whether to sum over raw event values (useful for analyzing usage) or price-mapped event values (useful for billing). `count` is only available with `raw`. (`\"raw\"` or `\"priced\"`).\n",
    "*   TIME: the overall time window for the analysis, correctly formatted. Example: `\"2023-01-02 2023-03-04\"`.\n",
    "*   FREQUENCY: (optional) if specified, breaks down the time window into daily, monthly, quarterly, or yearly intervals. Leave blank to treat TIME as one chunk.\n",
    "\n",
    "### TODOs:\n",
    "*   Integration to keycloak - user supplies decoded username and KC credentials, script looks into KC for encoded username:\n",
    "*   script calls 1pwd, gets kc admin pass, encodes to base64, makes into env var. second script decodes base64, gets corresponding account_id from kc, passes back.\n"
   ]
  },
  {
   "cell_type": "markdown",
   "metadata": {
    "id": "G29lBj2uHUcF"
   },
   "source": [
    "### User Parameters\n",
    "Edit the cell below with your user parameters."
   ]
  },
  {
   "cell_type": "code",
   "execution_count": 72,
   "metadata": {},
   "outputs": [],
   "source": [
    "# str: the encoded hash (from keycloak) of the account ID you wish to examine.\n",
    "# Set to None or \"\" to view overall usage.\n",
    "ACCOUNT_ID='5f0ffdae-57f8-48d6-b003-9aa70d067be2'\n",
    "\n",
    "# str: the environment (dev/prod)\n",
    "ENV=\"dev\"\n",
    "\n",
    "# str: start and end date for the analysis. example: \"2023-01-02 2023-03-04\"\n",
    "TIME=f'2023-07-01 2023-07-17'\n",
    "\n",
    "# str: time frequency. determines how many 'bins' for summing usage over time (daily/monthly/quarterly/yearly).\n",
    "# Set to None or \"\" to treat start and end date as absolute (no breaking down over time intervals).\n",
    "FREQUENCY=\"daily\"\n",
    "\n",
    "# str: value to examine. example: \"tts.audio_duration\"\n",
    "VALUE_NAME=\"tts.input_characters\" "
   ]
  },
  {
   "cell_type": "markdown",
   "metadata": {
    "id": "G29lBj2uHUcF"
   },
   "source": [
    "### Imports"
   ]
  },
  {
   "cell_type": "code",
   "execution_count": 73,
   "metadata": {},
   "outputs": [],
   "source": [
    "from datetime import datetime, timedelta\n",
    "import json\n",
    "import seaborn as sns\n",
    "import matplotlib.pyplot as plt\n",
    "import pandas as pd\n",
    "from ipywidgets import interact, interactive, fixed, interact_manual\n",
    "import ipywidgets as widgets\n",
    "import requests"
   ]
  },
  {
   "cell_type": "markdown",
   "metadata": {},
   "source": [
    "### Functions"
   ]
  },
  {
   "cell_type": "code",
   "execution_count": 74,
   "metadata": {},
   "outputs": [],
   "source": [
    "def form_date_intervals(date_start, date_end, intervals):    \n",
    "    \"\"\"Generate date intervals on a monthly, quarterly, or daily basis, given two timepoints.\"\"\"\n",
    "    interval_map = {'monthly': 'MS', 'quarterly': 'QS', 'daily': 'D', 'yearly': 'Y'}\n",
    "    # generate individual timepoints\n",
    "    timepoints = pd.date_range(date_start, date_end, freq=interval_map[intervals]).strftime('%Y-%m-%d').tolist()\n",
    "    intervals = []\n",
    "    # timepoints into intervals\n",
    "    for i in timepoints:\n",
    "        intervals.append([i, i])\n",
    "    #for i in range(len(timepoints) -1 ):\n",
    "    #    intervals.append(timepoints[i: i+2])\n",
    "    print(intervals)\n",
    "    return intervals\n",
    "    "
   ]
  },
  {
   "cell_type": "code",
   "execution_count": 75,
   "metadata": {
    "colab": {
     "base_uri": "https://localhost:8080/"
    },
    "id": "dslVF8bjDmif",
    "outputId": "561e6bfc-f4f4-4576-a0db-9d3b2fdf4ef6"
   },
   "outputs": [],
   "source": [
    "url_append = f'{ACCOUNT_ID}/total' if ACCOUNT_ID else f'total'\n",
    "\n",
    "if ENV == 'dev':\n",
    "    url = f'https://billie-dev.ch.themama.ai/api/v1/billing/{url_append}'\n",
    "elif ENV == 'prod':\n",
    "    url = f'http://billie.ch.themama.ai/api/v1/billing/{url_append}'\n",
    "    \n",
    "\n",
    "def get_data_between_timepoints(intervals):\n",
    "    interval_data = []\n",
    "    headers = {'accept': 'application/json'}\n",
    "    for interval in intervals:\n",
    "        params = {\n",
    "        'start': interval[0],\n",
    "        'end': interval[1],\n",
    "        'value_name': VALUE_NAME\n",
    "        }\n",
    "        \n",
    "        response = requests.get(url, params=params, headers=headers)\n",
    "        interval_data.append((interval, response.json()))\n",
    "    return interval_data"
   ]
  },
  {
   "cell_type": "code",
   "execution_count": 76,
   "metadata": {
    "id": "DigA2tKm9CjN"
   },
   "outputs": [
    {
     "name": "stdout",
     "output_type": "stream",
     "text": [
      "[['2023-07-01', '2023-07-01'], ['2023-07-02', '2023-07-02'], ['2023-07-03', '2023-07-03'], ['2023-07-04', '2023-07-04'], ['2023-07-05', '2023-07-05'], ['2023-07-06', '2023-07-06'], ['2023-07-07', '2023-07-07'], ['2023-07-08', '2023-07-08'], ['2023-07-09', '2023-07-09'], ['2023-07-10', '2023-07-10'], ['2023-07-11', '2023-07-11'], ['2023-07-12', '2023-07-12'], ['2023-07-13', '2023-07-13'], ['2023-07-14', '2023-07-14'], ['2023-07-15', '2023-07-15'], ['2023-07-16', '2023-07-16'], ['2023-07-17', '2023-07-17']]\n"
     ]
    }
   ],
   "source": [
    "dates_unparsed = TIME.split(\" \")\n",
    "date_start, date_end = datetime.strptime(dates_unparsed[0], '%Y-%m-%d'), datetime.strptime(dates_unparsed[1], '%Y-%m-%d')\n",
    "\n",
    "if FREQUENCY:\n",
    "    intervals = form_date_intervals(date_start, date_end, FREQUENCY)\n",
    "else:\n",
    "    intervals = [[date_start, date_end]]\n",
    "\n",
    "r_data = get_data_between_timepoints(intervals) "
   ]
  },
  {
   "cell_type": "code",
   "execution_count": 77,
   "metadata": {
    "id": "gTNffdr4DWtW"
   },
   "outputs": [
    {
     "name": "stdout",
     "output_type": "stream",
     "text": [
      "Start: 2023-07-01, End: 2023-07-01, Total: 0.0, Count: 0\n",
      "Start: 2023-07-02, End: 2023-07-02, Total: 0.0, Count: 0\n",
      "Start: 2023-07-03, End: 2023-07-03, Total: 0.0, Count: 0\n",
      "Start: 2023-07-04, End: 2023-07-04, Total: 0.0, Count: 0\n",
      "Start: 2023-07-05, End: 2023-07-05, Total: 0.0, Count: 0\n",
      "Start: 2023-07-06, End: 2023-07-06, Total: 0.0, Count: 0\n",
      "Start: 2023-07-07, End: 2023-07-07, Total: 191908.0, Count: 797\n",
      "Start: 2023-07-08, End: 2023-07-08, Total: 14028.0, Count: 42\n",
      "Start: 2023-07-09, End: 2023-07-09, Total: 5826.0, Count: 19\n",
      "Start: 2023-07-10, End: 2023-07-10, Total: 7122.0, Count: 25\n",
      "Start: 2023-07-11, End: 2023-07-11, Total: 14356.0, Count: 39\n",
      "Start: 2023-07-12, End: 2023-07-12, Total: 96956.0, Count: 282\n",
      "Start: 2023-07-13, End: 2023-07-13, Total: 30414.0, Count: 87\n",
      "Start: 2023-07-14, End: 2023-07-14, Total: 92274.0, Count: 278\n",
      "Start: 2023-07-15, End: 2023-07-15, Total: 0.0, Count: 0\n",
      "Start: 2023-07-16, End: 2023-07-16, Total: 0.0, Count: 0\n",
      "Start: 2023-07-17, End: 2023-07-17, Total: 7441.0, Count: 23\n"
     ]
    },
    {
     "data": {
      "image/png": "[encoded data removed]",
      "text/plain": [
       "<Figure size 400x400 with 1 Axes>"
      ]
     },
     "metadata": {},
     "output_type": "display_data"
    }
   ],
   "source": [
    "# print data and plot\n",
    "if not r_data:\n",
    "    print(\"Wasn't able to generate a suitable\", FREQUENCY, \"interval between the dates:\", TIME)\n",
    "    print(\"Please check FREQUENCY parameter.\")\n",
    "else:\n",
    "    for interval in r_data:\n",
    "            print(f\"Start: {interval[0][0]}, End: {interval[0][1]}, Total: {interval[1]['total']}, Count: {interval[1]['count']}\")\n",
    "\n",
    "    y_label_val = VALUE_NAME\n",
    "    y_label_count = 'Count'\n",
    "    x_labels = [f'{i[0][0]} - {i[0][1]}' for i in r_data]\n",
    "    plot_data_total = [i[1]['total'] for i in r_data]\n",
    "    \n",
    "    df = pd.DataFrame(\n",
    "                      {'interval': x_labels,\n",
    "                       y_label_val: plot_data_total,\n",
    "                      })\n",
    "    sns.barplot(x=x_labels, y=plot_data_total, data=df[[y_label_val]])\n",
    "    plt.xticks(rotation=-90)\n",
    "    plt.grid(color='black', linestyle='--', linewidth=1, alpha=0.25)\n",
    "    plt.gca().xaxis.set_major_locator(plt.MultipleLocator(1))\n",
    "\n"
   ]
  },
  {
   "cell_type": "code",
   "execution_count": null,
   "metadata": {
    "id": "yl5TwXB_9PtX"
   },
   "outputs": [],
   "source": []
  },
  {
   "cell_type": "code",
   "execution_count": null,
   "metadata": {
    "id": "jvJqh7G4JjI5"
   },
   "outputs": [],
   "source": []
  },
  {
   "cell_type": "code",
   "execution_count": null,
   "metadata": {
    "colab": {
     "base_uri": "https://localhost:8080/",
     "height": 137,
     "referenced_widgets": [
      "05810d8f862c4fa78206d21bb781f064",
      "1011184a8c4b454a83c0bd127ab9c9b1",
      "6ba0a121f204405fb1443e10f1ccc508",
      "2f551971a3bb401a8102b1f0f5a65855",
      "094db1d9165e4b7590b3576097be56a1",
      "5c73bdef86364eac8517197bbe5b17fb",
      "126c2bd6b9564621bc60850aae5967e5"
     ]
    },
    "id": "plUeNELgHgBc",
    "outputId": "ef6aaf00-52a5-4241-a482-707454742d57"
   },
   "outputs": [],
   "source": []
  },
  {
   "cell_type": "code",
   "execution_count": null,
   "metadata": {
    "id": "gk_LuQkS9P-k"
   },
   "outputs": [],
   "source": []
  },
  {
   "cell_type": "code",
   "execution_count": null,
   "metadata": {
    "id": "gcy_YzDL9QAr"
   },
   "outputs": [],
   "source": []
  },
  {
   "cell_type": "code",
   "execution_count": null,
   "metadata": {
    "id": "YuvI_xy89QCv"
   },
   "outputs": [],
   "source": []
  },
  {
   "cell_type": "code",
   "execution_count": null,
   "metadata": {
    "id": "Q2LsTnrA9QE1"
   },
   "outputs": [],
   "source": []
  },
  {
   "cell_type": "code",
   "execution_count": null,
   "metadata": {
    "id": "c8pHWas19QG-"
   },
   "outputs": [],
   "source": []
  },
  {
   "cell_type": "code",
   "execution_count": null,
   "metadata": {
    "id": "LXWH5X4Y9QJU"
   },
   "outputs": [],
   "source": []
  },
  {
   "cell_type": "code",
   "execution_count": null,
   "metadata": {
    "id": "eBNERDpH9QLJ"
   },
   "outputs": [],
   "source": []
  },
  {
   "cell_type": "code",
   "execution_count": null,
   "metadata": {
    "id": "oLMeheRx9QNb"
   },
   "outputs": [],
   "source": []
  },
  {
   "cell_type": "code",
   "execution_count": null,
   "metadata": {
    "id": "WmxxpJ9r9QPi"
   },
   "outputs": [],
   "source": []
  },
  {
   "cell_type": "code",
   "execution_count": null,
   "metadata": {
    "id": "BjazsKsc9NpF"
   },
   "outputs": [],
   "source": []
  }
 ],
 "metadata": {
  "colab": {
   "provenance": []
  },
  "kernelspec": {
   "display_name": "Python 3 (ipykernel)",
   "language": "python",
   "name": "python3"
  },
  "language_info": {
   "codemirror_mode": {
    "name": "ipython",
    "version": 3
   },
   "file_extension": ".py",
   "mimetype": "text/x-python",
   "name": "python",
   "nbconvert_exporter": "python",
   "pygments_lexer": "ipython3",
   "version": "3.9.17"
  },
  "widgets": {
   "application/vnd.jupyter.widget-state+json": {
    "05810d8f862c4fa78206d21bb781f064": {
     "model_module": "@jupyter-widgets/controls",
     "model_module_version": "1.5.0",
     "model_name": "VBoxModel",
     "state": {
      "_dom_classes": [
       "widget-interact"
      ],
      "_model_module": "@jupyter-widgets/controls",
      "_model_module_version": "1.5.0",
      "_model_name": "VBoxModel",
      "_view_count": null,
      "_view_module": "@jupyter-widgets/controls",
      "_view_module_version": "1.5.0",
      "_view_name": "VBoxView",
      "box_style": "",
      "children": [
       "IPY_MODEL_1011184a8c4b454a83c0bd127ab9c9b1",
       "IPY_MODEL_6ba0a121f204405fb1443e10f1ccc508"
      ],
      "layout": "IPY_MODEL_2f551971a3bb401a8102b1f0f5a65855"
     }
    },
    "094db1d9165e4b7590b3576097be56a1": {
     "model_module": "@jupyter-widgets/base",
     "model_module_version": "1.2.0",
     "model_name": "LayoutModel",
     "state": {
      "_model_module": "@jupyter-widgets/base",
      "_model_module_version": "1.2.0",
      "_model_name": "LayoutModel",
      "_view_count": null,
      "_view_module": "@jupyter-widgets/base",
      "_view_module_version": "1.2.0",
      "_view_name": "LayoutView",
      "align_content": null,
      "align_items": null,
      "align_self": null,
      "border": null,
      "bottom": null,
      "display": null,
      "flex": null,
      "flex_flow": null,
      "grid_area": null,
      "grid_auto_columns": null,
      "grid_auto_flow": null,
      "grid_auto_rows": null,
      "grid_column": null,
      "grid_gap": null,
      "grid_row": null,
      "grid_template_areas": null,
      "grid_template_columns": null,
      "grid_template_rows": null,
      "height": null,
      "justify_content": null,
      "justify_items": null,
      "left": null,
      "margin": null,
      "max_height": null,
      "max_width": null,
      "min_height": null,
      "min_width": null,
      "object_fit": null,
      "object_position": null,
      "order": null,
      "overflow": null,
      "overflow_x": null,
      "overflow_y": null,
      "padding": null,
      "right": null,
      "top": null,
      "visibility": null,
      "width": null
     }
    },
    "1011184a8c4b454a83c0bd127ab9c9b1": {
     "model_module": "@jupyter-widgets/controls",
     "model_module_version": "1.5.0",
     "model_name": "TextModel",
     "state": {
      "_dom_classes": [],
      "_model_module": "@jupyter-widgets/controls",
      "_model_module_version": "1.5.0",
      "_model_name": "TextModel",
      "_view_count": null,
      "_view_module": "@jupyter-widgets/controls",
      "_view_module_version": "1.5.0",
      "_view_name": "TextView",
      "continuous_update": true,
      "description": "username",
      "description_tooltip": null,
      "disabled": false,
      "layout": "IPY_MODEL_094db1d9165e4b7590b3576097be56a1",
      "placeholder": "​",
      "style": "IPY_MODEL_5c73bdef86364eac8517197bbe5b17fb",
      "value": "c4b062ca-074f-4d81-b6e8-1d8246849fec!"
     }
    },
    "126c2bd6b9564621bc60850aae5967e5": {
     "model_module": "@jupyter-widgets/base",
     "model_module_version": "1.2.0",
     "model_name": "LayoutModel",
     "state": {
      "_model_module": "@jupyter-widgets/base",
      "_model_module_version": "1.2.0",
      "_model_name": "LayoutModel",
      "_view_count": null,
      "_view_module": "@jupyter-widgets/base",
      "_view_module_version": "1.2.0",
      "_view_name": "LayoutView",
      "align_content": null,
      "align_items": null,
      "align_self": null,
      "border": null,
      "bottom": null,
      "display": null,
      "flex": null,
      "flex_flow": null,
      "grid_area": null,
      "grid_auto_columns": null,
      "grid_auto_flow": null,
      "grid_auto_rows": null,
      "grid_column": null,
      "grid_gap": null,
      "grid_row": null,
      "grid_template_areas": null,
      "grid_template_columns": null,
      "grid_template_rows": null,
      "height": null,
      "justify_content": null,
      "justify_items": null,
      "left": null,
      "margin": null,
      "max_height": null,
      "max_width": null,
      "min_height": null,
      "min_width": null,
      "object_fit": null,
      "object_position": null,
      "order": null,
      "overflow": null,
      "overflow_x": null,
      "overflow_y": null,
      "padding": null,
      "right": null,
      "top": null,
      "visibility": null,
      "width": null
     }
    },
    "2f551971a3bb401a8102b1f0f5a65855": {
     "model_module": "@jupyter-widgets/base",
     "model_module_version": "1.2.0",
     "model_name": "LayoutModel",
     "state": {
      "_model_module": "@jupyter-widgets/base",
      "_model_module_version": "1.2.0",
      "_model_name": "LayoutModel",
      "_view_count": null,
      "_view_module": "@jupyter-widgets/base",
      "_view_module_version": "1.2.0",
      "_view_name": "LayoutView",
      "align_content": null,
      "align_items": null,
      "align_self": null,
      "border": null,
      "bottom": null,
      "display": null,
      "flex": null,
      "flex_flow": null,
      "grid_area": null,
      "grid_auto_columns": null,
      "grid_auto_flow": null,
      "grid_auto_rows": null,
      "grid_column": null,
      "grid_gap": null,
      "grid_row": null,
      "grid_template_areas": null,
      "grid_template_columns": null,
      "grid_template_rows": null,
      "height": null,
      "justify_content": null,
      "justify_items": null,
      "left": null,
      "margin": null,
      "max_height": null,
      "max_width": null,
      "min_height": null,
      "min_width": null,
      "object_fit": null,
      "object_position": null,
      "order": null,
      "overflow": null,
      "overflow_x": null,
      "overflow_y": null,
      "padding": null,
      "right": null,
      "top": null,
      "visibility": null,
      "width": null
     }
    },
    "5c73bdef86364eac8517197bbe5b17fb": {
     "model_module": "@jupyter-widgets/controls",
     "model_module_version": "1.5.0",
     "model_name": "DescriptionStyleModel",
     "state": {
      "_model_module": "@jupyter-widgets/controls",
      "_model_module_version": "1.5.0",
      "_model_name": "DescriptionStyleModel",
      "_view_count": null,
      "_view_module": "@jupyter-widgets/base",
      "_view_module_version": "1.2.0",
      "_view_name": "StyleView",
      "description_width": ""
     }
    },
    "6ba0a121f204405fb1443e10f1ccc508": {
     "model_module": "@jupyter-widgets/output",
     "model_module_version": "1.0.0",
     "model_name": "OutputModel",
     "state": {
      "_dom_classes": [],
      "_model_module": "@jupyter-widgets/output",
      "_model_module_version": "1.0.0",
      "_model_name": "OutputModel",
      "_view_count": null,
      "_view_module": "@jupyter-widgets/output",
      "_view_module_version": "1.0.0",
      "_view_name": "OutputView",
      "layout": "IPY_MODEL_126c2bd6b9564621bc60850aae5967e5",
      "msg_id": "",
      "outputs": [
       {
        "name": "stdout",
        "output_type": "stream",
        "text": [
         "Account id: \n"
        ]
       },
       {
        "data": {
         "application/vnd.google.colaboratory.intrinsic+json": {
          "type": "string"
         },
         "text/plain": "''"
        },
        "metadata": {},
        "output_type": "display_data"
       }
      ]
     }
    }
   }
  }
 },
 "nbformat": 4,
 "nbformat_minor": 4
}
